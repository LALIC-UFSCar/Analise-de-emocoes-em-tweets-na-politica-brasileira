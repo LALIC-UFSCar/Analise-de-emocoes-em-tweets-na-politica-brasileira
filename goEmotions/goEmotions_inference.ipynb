{
  "cells": [
    {
      "cell_type": "markdown",
      "metadata": {
        "id": "RvZxJsuw7kv0"
      },
      "source": [
        "#Libraries"
      ]
    },
    {
      "cell_type": "code",
      "execution_count": null,
      "metadata": {
        "id": "3OmvzM6Ktrao",
        "colab": {
          "base_uri": "https://localhost:8080/"
        },
        "outputId": "c9e1d2e8-a976-47af-b1c4-e82d4144d34f"
      },
      "outputs": [
        {
          "output_type": "stream",
          "name": "stdout",
          "text": [
            "Looking in indexes: https://pypi.org/simple, https://us-python.pkg.dev/colab-wheels/public/simple/\n",
            "Requirement already satisfied: transformers in /usr/local/lib/python3.8/dist-packages (4.26.1)\n",
            "Requirement already satisfied: pyyaml>=5.1 in /usr/local/lib/python3.8/dist-packages (from transformers) (6.0)\n",
            "Requirement already satisfied: tqdm>=4.27 in /usr/local/lib/python3.8/dist-packages (from transformers) (4.64.1)\n",
            "Requirement already satisfied: numpy>=1.17 in /usr/local/lib/python3.8/dist-packages (from transformers) (1.22.4)\n",
            "Requirement already satisfied: packaging>=20.0 in /usr/local/lib/python3.8/dist-packages (from transformers) (23.0)\n",
            "Requirement already satisfied: regex!=2019.12.17 in /usr/local/lib/python3.8/dist-packages (from transformers) (2022.6.2)\n",
            "Requirement already satisfied: filelock in /usr/local/lib/python3.8/dist-packages (from transformers) (3.9.0)\n",
            "Requirement already satisfied: requests in /usr/local/lib/python3.8/dist-packages (from transformers) (2.25.1)\n",
            "Requirement already satisfied: huggingface-hub<1.0,>=0.11.0 in /usr/local/lib/python3.8/dist-packages (from transformers) (0.12.1)\n",
            "Requirement already satisfied: tokenizers!=0.11.3,<0.14,>=0.11.1 in /usr/local/lib/python3.8/dist-packages (from transformers) (0.13.2)\n",
            "Requirement already satisfied: typing-extensions>=3.7.4.3 in /usr/local/lib/python3.8/dist-packages (from huggingface-hub<1.0,>=0.11.0->transformers) (4.5.0)\n",
            "Requirement already satisfied: idna<3,>=2.5 in /usr/local/lib/python3.8/dist-packages (from requests->transformers) (2.10)\n",
            "Requirement already satisfied: chardet<5,>=3.0.2 in /usr/local/lib/python3.8/dist-packages (from requests->transformers) (4.0.0)\n",
            "Requirement already satisfied: certifi>=2017.4.17 in /usr/local/lib/python3.8/dist-packages (from requests->transformers) (2022.12.7)\n",
            "Requirement already satisfied: urllib3<1.27,>=1.21.1 in /usr/local/lib/python3.8/dist-packages (from requests->transformers) (1.24.3)\n"
          ]
        }
      ],
      "source": [
        "!pip install transformers"
      ]
    },
    {
      "cell_type": "code",
      "execution_count": null,
      "metadata": {
        "id": "yabxhsQ13eEf"
      },
      "outputs": [],
      "source": [
        "from google.colab import drive\n",
        "from transformers import BertTokenizer, BertForSequenceClassification, pipeline\n",
        "import pandas as pd\n",
        "import numpy as np\n",
        "import matplotlib.pyplot as plt\n",
        "import seaborn as sns"
      ]
    },
    {
      "cell_type": "code",
      "execution_count": null,
      "metadata": {
        "colab": {
          "base_uri": "https://localhost:8080/"
        },
        "id": "K9BjfMsA5Al4",
        "outputId": "6663c664-0769-4c73-978c-e10b5df5d83f"
      },
      "outputs": [
        {
          "output_type": "stream",
          "name": "stdout",
          "text": [
            "Mounted at /content/drive\n"
          ]
        }
      ],
      "source": [
        "drive.mount('/content/drive', force_remount=True)"
      ]
    },
    {
      "cell_type": "markdown",
      "metadata": {
        "id": "gjYKKydz7pIK"
      },
      "source": [
        "# Dataset"
      ]
    },
    {
      "cell_type": "code",
      "execution_count": null,
      "metadata": {
        "id": "ajfyxWJg7G3T"
      },
      "outputs": [],
      "source": [
        "df = pd.read_csv('/content/drive/MyDrive/BEPE/datasets/all_replies_goEmotions.csv')"
      ]
    },
    {
      "cell_type": "code",
      "execution_count": null,
      "metadata": {
        "colab": {
          "base_uri": "https://localhost:8080/",
          "height": 458
        },
        "id": "4P6u6kLv7f9a",
        "outputId": "d7c518ec-70f3-4169-e187-956c3c6ce6bd"
      },
      "outputs": [
        {
          "output_type": "execute_result",
          "data": {
            "text/plain": [
              "              tweet_id                      created_at   timestamp_ms  \\\n",
              "0  1246155262374957058  Fri Apr 03 19:19:01 +0000 2020  1585941541652   \n",
              "1  1246165338254979077  Fri Apr 03 19:59:03 +0000 2020  1585943943929   \n",
              "2  1246257392150552580  Sat Apr 04 02:04:51 +0000 2020  1585965891288   \n",
              "3  1245329530476257280  Wed Apr 01 12:37:51 +0000 2020  1585744671826   \n",
              "4  1245331502214283264  Wed Apr 01 12:45:41 +0000 2020  1585745141925   \n",
              "\n",
              "                                          tweet_text       id_tweet_reply  \\\n",
              "0   No vídeo, 6:30 - 6:40, fala que vai sancionar...  1244963529377153024   \n",
              "1                       Já viu isso Sr° Presidente?   1244963529377153024   \n",
              "2   A população que nunca sai daí né? Mesmo reban...  1244963529377153024   \n",
              "3   Você é louco. Se não fosse a atitude firme do...  1244963529377153024   \n",
              "4              Quem te segue é mais bandido que tu .  1244963529377153024   \n",
              "\n",
              "   predictions    scores  \n",
              "0       neutro  0.780009  \n",
              "1  curiosidade  0.754949  \n",
              "2        raiva  0.304363  \n",
              "3        raiva  0.488081  \n",
              "4       neutro  0.297641  "
            ],
            "text/html": [
              "\n",
              "\n",
              "  <div id=\"df-88c5a095-2bec-4ed3-8c82-faa98077b69e\">\n",
              "    <div class=\"colab-df-container\">\n",
              "      <div>\n",
              "<style scoped>\n",
              "    .dataframe tbody tr th:only-of-type {\n",
              "        vertical-align: middle;\n",
              "    }\n",
              "\n",
              "    .dataframe tbody tr th {\n",
              "        vertical-align: top;\n",
              "    }\n",
              "\n",
              "    .dataframe thead th {\n",
              "        text-align: right;\n",
              "    }\n",
              "</style>\n",
              "<table border=\"1\" class=\"dataframe\">\n",
              "  <thead>\n",
              "    <tr style=\"text-align: right;\">\n",
              "      <th></th>\n",
              "      <th>tweet_id</th>\n",
              "      <th>created_at</th>\n",
              "      <th>timestamp_ms</th>\n",
              "      <th>tweet_text</th>\n",
              "      <th>id_tweet_reply</th>\n",
              "      <th>predictions</th>\n",
              "      <th>scores</th>\n",
              "    </tr>\n",
              "  </thead>\n",
              "  <tbody>\n",
              "    <tr>\n",
              "      <th>0</th>\n",
              "      <td>1246155262374957058</td>\n",
              "      <td>Fri Apr 03 19:19:01 +0000 2020</td>\n",
              "      <td>1585941541652</td>\n",
              "      <td>No vídeo, 6:30 - 6:40, fala que vai sancionar...</td>\n",
              "      <td>1244963529377153024</td>\n",
              "      <td>neutro</td>\n",
              "      <td>0.780009</td>\n",
              "    </tr>\n",
              "    <tr>\n",
              "      <th>1</th>\n",
              "      <td>1246165338254979077</td>\n",
              "      <td>Fri Apr 03 19:59:03 +0000 2020</td>\n",
              "      <td>1585943943929</td>\n",
              "      <td>Já viu isso Sr° Presidente?</td>\n",
              "      <td>1244963529377153024</td>\n",
              "      <td>curiosidade</td>\n",
              "      <td>0.754949</td>\n",
              "    </tr>\n",
              "    <tr>\n",
              "      <th>2</th>\n",
              "      <td>1246257392150552580</td>\n",
              "      <td>Sat Apr 04 02:04:51 +0000 2020</td>\n",
              "      <td>1585965891288</td>\n",
              "      <td>A população que nunca sai daí né? Mesmo reban...</td>\n",
              "      <td>1244963529377153024</td>\n",
              "      <td>raiva</td>\n",
              "      <td>0.304363</td>\n",
              "    </tr>\n",
              "    <tr>\n",
              "      <th>3</th>\n",
              "      <td>1245329530476257280</td>\n",
              "      <td>Wed Apr 01 12:37:51 +0000 2020</td>\n",
              "      <td>1585744671826</td>\n",
              "      <td>Você é louco. Se não fosse a atitude firme do...</td>\n",
              "      <td>1244963529377153024</td>\n",
              "      <td>raiva</td>\n",
              "      <td>0.488081</td>\n",
              "    </tr>\n",
              "    <tr>\n",
              "      <th>4</th>\n",
              "      <td>1245331502214283264</td>\n",
              "      <td>Wed Apr 01 12:45:41 +0000 2020</td>\n",
              "      <td>1585745141925</td>\n",
              "      <td>Quem te segue é mais bandido que tu .</td>\n",
              "      <td>1244963529377153024</td>\n",
              "      <td>neutro</td>\n",
              "      <td>0.297641</td>\n",
              "    </tr>\n",
              "  </tbody>\n",
              "</table>\n",
              "</div>\n",
              "      <button class=\"colab-df-convert\" onclick=\"convertToInteractive('df-88c5a095-2bec-4ed3-8c82-faa98077b69e')\"\n",
              "              title=\"Convert this dataframe to an interactive table.\"\n",
              "              style=\"display:none;\">\n",
              "\n",
              "  <svg xmlns=\"http://www.w3.org/2000/svg\" height=\"24px\"viewBox=\"0 0 24 24\"\n",
              "       width=\"24px\">\n",
              "    <path d=\"M0 0h24v24H0V0z\" fill=\"none\"/>\n",
              "    <path d=\"M18.56 5.44l.94 2.06.94-2.06 2.06-.94-2.06-.94-.94-2.06-.94 2.06-2.06.94zm-11 1L8.5 8.5l.94-2.06 2.06-.94-2.06-.94L8.5 2.5l-.94 2.06-2.06.94zm10 10l.94 2.06.94-2.06 2.06-.94-2.06-.94-.94-2.06-.94 2.06-2.06.94z\"/><path d=\"M17.41 7.96l-1.37-1.37c-.4-.4-.92-.59-1.43-.59-.52 0-1.04.2-1.43.59L10.3 9.45l-7.72 7.72c-.78.78-.78 2.05 0 2.83L4 21.41c.39.39.9.59 1.41.59.51 0 1.02-.2 1.41-.59l7.78-7.78 2.81-2.81c.8-.78.8-2.07 0-2.86zM5.41 20L4 18.59l7.72-7.72 1.47 1.35L5.41 20z\"/>\n",
              "  </svg>\n",
              "      </button>\n",
              "\n",
              "\n",
              "\n",
              "    <div id=\"df-40e2af5e-7da8-4e46-9c4c-974d99b19890\">\n",
              "      <button class=\"colab-df-quickchart\" onclick=\"quickchart('df-40e2af5e-7da8-4e46-9c4c-974d99b19890')\"\n",
              "              title=\"Suggest charts.\"\n",
              "              style=\"display:none;\">\n",
              "\n",
              "<svg xmlns=\"http://www.w3.org/2000/svg\" height=\"24px\"viewBox=\"0 0 24 24\"\n",
              "     width=\"24px\">\n",
              "    <g>\n",
              "        <path d=\"M19 3H5c-1.1 0-2 .9-2 2v14c0 1.1.9 2 2 2h14c1.1 0 2-.9 2-2V5c0-1.1-.9-2-2-2zM9 17H7v-7h2v7zm4 0h-2V7h2v10zm4 0h-2v-4h2v4z\"/>\n",
              "    </g>\n",
              "</svg>\n",
              "      </button>\n",
              "    </div>\n",
              "\n",
              "<style>\n",
              "  .colab-df-quickchart {\n",
              "    background-color: #E8F0FE;\n",
              "    border: none;\n",
              "    border-radius: 50%;\n",
              "    cursor: pointer;\n",
              "    display: none;\n",
              "    fill: #1967D2;\n",
              "    height: 32px;\n",
              "    padding: 0 0 0 0;\n",
              "    width: 32px;\n",
              "  }\n",
              "\n",
              "  .colab-df-quickchart:hover {\n",
              "    background-color: #E2EBFA;\n",
              "    box-shadow: 0px 1px 2px rgba(60, 64, 67, 0.3), 0px 1px 3px 1px rgba(60, 64, 67, 0.15);\n",
              "    fill: #174EA6;\n",
              "  }\n",
              "\n",
              "  [theme=dark] .colab-df-quickchart {\n",
              "    background-color: #3B4455;\n",
              "    fill: #D2E3FC;\n",
              "  }\n",
              "\n",
              "  [theme=dark] .colab-df-quickchart:hover {\n",
              "    background-color: #434B5C;\n",
              "    box-shadow: 0px 1px 3px 1px rgba(0, 0, 0, 0.15);\n",
              "    filter: drop-shadow(0px 1px 2px rgba(0, 0, 0, 0.3));\n",
              "    fill: #FFFFFF;\n",
              "  }\n",
              "</style>\n",
              "\n",
              "    <script>\n",
              "      async function quickchart(key) {\n",
              "        const containerElement = document.querySelector('#' + key);\n",
              "        const charts = await google.colab.kernel.invokeFunction(\n",
              "            'suggestCharts', [key], {});\n",
              "      }\n",
              "    </script>\n",
              "\n",
              "      <script>\n",
              "\n",
              "function displayQuickchartButton(domScope) {\n",
              "  let quickchartButtonEl =\n",
              "    domScope.querySelector('#df-40e2af5e-7da8-4e46-9c4c-974d99b19890 button.colab-df-quickchart');\n",
              "  quickchartButtonEl.style.display =\n",
              "    google.colab.kernel.accessAllowed ? 'block' : 'none';\n",
              "}\n",
              "\n",
              "        displayQuickchartButton(document);\n",
              "      </script>\n",
              "      <style>\n",
              "    .colab-df-container {\n",
              "      display:flex;\n",
              "      flex-wrap:wrap;\n",
              "      gap: 12px;\n",
              "    }\n",
              "\n",
              "    .colab-df-convert {\n",
              "      background-color: #E8F0FE;\n",
              "      border: none;\n",
              "      border-radius: 50%;\n",
              "      cursor: pointer;\n",
              "      display: none;\n",
              "      fill: #1967D2;\n",
              "      height: 32px;\n",
              "      padding: 0 0 0 0;\n",
              "      width: 32px;\n",
              "    }\n",
              "\n",
              "    .colab-df-convert:hover {\n",
              "      background-color: #E2EBFA;\n",
              "      box-shadow: 0px 1px 2px rgba(60, 64, 67, 0.3), 0px 1px 3px 1px rgba(60, 64, 67, 0.15);\n",
              "      fill: #174EA6;\n",
              "    }\n",
              "\n",
              "    [theme=dark] .colab-df-convert {\n",
              "      background-color: #3B4455;\n",
              "      fill: #D2E3FC;\n",
              "    }\n",
              "\n",
              "    [theme=dark] .colab-df-convert:hover {\n",
              "      background-color: #434B5C;\n",
              "      box-shadow: 0px 1px 3px 1px rgba(0, 0, 0, 0.15);\n",
              "      filter: drop-shadow(0px 1px 2px rgba(0, 0, 0, 0.3));\n",
              "      fill: #FFFFFF;\n",
              "    }\n",
              "  </style>\n",
              "\n",
              "      <script>\n",
              "        const buttonEl =\n",
              "          document.querySelector('#df-88c5a095-2bec-4ed3-8c82-faa98077b69e button.colab-df-convert');\n",
              "        buttonEl.style.display =\n",
              "          google.colab.kernel.accessAllowed ? 'block' : 'none';\n",
              "\n",
              "        async function convertToInteractive(key) {\n",
              "          const element = document.querySelector('#df-88c5a095-2bec-4ed3-8c82-faa98077b69e');\n",
              "          const dataTable =\n",
              "            await google.colab.kernel.invokeFunction('convertToInteractive',\n",
              "                                                     [key], {});\n",
              "          if (!dataTable) return;\n",
              "\n",
              "          const docLinkHtml = 'Like what you see? Visit the ' +\n",
              "            '<a target=\"_blank\" href=https://colab.research.google.com/notebooks/data_table.ipynb>data table notebook</a>'\n",
              "            + ' to learn more about interactive tables.';\n",
              "          element.innerHTML = '';\n",
              "          dataTable['output_type'] = 'display_data';\n",
              "          await google.colab.output.renderOutput(dataTable, element);\n",
              "          const docLink = document.createElement('div');\n",
              "          docLink.innerHTML = docLinkHtml;\n",
              "          element.appendChild(docLink);\n",
              "        }\n",
              "      </script>\n",
              "    </div>\n",
              "  </div>\n"
            ]
          },
          "metadata": {},
          "execution_count": 4
        }
      ],
      "source": [
        "df.drop(columns=['Unnamed: 0'], inplace=True)\n",
        "df.head()"
      ]
    },
    {
      "cell_type": "markdown",
      "metadata": {
        "id": "UL1lKdpf7qya"
      },
      "source": [
        "# Inference"
      ]
    },
    {
      "cell_type": "code",
      "source": [
        "infer = False"
      ],
      "metadata": {
        "id": "dB_PAbGrc0m3"
      },
      "execution_count": null,
      "outputs": []
    },
    {
      "cell_type": "code",
      "execution_count": null,
      "metadata": {
        "id": "5-xnBdG-8pmk"
      },
      "outputs": [],
      "source": [
        "if infer:\n",
        "  # Folder path containing the fine-tuned model files\n",
        "  model_path = '/content/drive/MyDrive/IC/Inferencia_carga_afetiva/GoEmotions_portuguese-main/fine_tunel_model'\n",
        "  model = BertForSequenceClassification.from_pretrained(model_path)\n",
        "  tokenizer = BertTokenizer.from_pretrained(model_path)\n",
        "  classifier = pipeline('text-classification', model=model, tokenizer=tokenizer, top_k=1, device=0)"
      ]
    },
    {
      "cell_type": "code",
      "execution_count": null,
      "metadata": {
        "id": "pYAwiPMV8h0u"
      },
      "outputs": [],
      "source": [
        "def inference(tweets):\n",
        "  return classifier(tweets)"
      ]
    },
    {
      "cell_type": "code",
      "execution_count": null,
      "metadata": {
        "id": "0_JrGmPpAl9k"
      },
      "outputs": [],
      "source": [
        "# s = start\n",
        "# e = end\n",
        "def save_inference(s, e):\n",
        "  tweets = list(df['tweet_text'])\n",
        "  pred = list(df['predictions'][:s])\n",
        "  score = list(df['scores'][:s])\n",
        "  emotions = inference(tweets[s:e])\n",
        "  for emotion in emotions:\n",
        "    pred.append(emotion[0]['label'])\n",
        "    score.append(emotion[0]['score'])\n",
        "  for i in range(len(df) - e):\n",
        "    pred.append('-')\n",
        "    score.append('-')\n",
        "  df['predictions'] = pred\n",
        "  df['scores'] = score\n",
        "  df.to_csv('/content/drive/MyDrive/BEPE/datasets/all_replies_goEmotions.csv')"
      ]
    },
    {
      "cell_type": "code",
      "execution_count": null,
      "metadata": {
        "id": "IAlP9I1kBHL4"
      },
      "outputs": [],
      "source": [
        "save_inference(4500000, 4971545)"
      ]
    }
  ],
  "metadata": {
    "colab": {
      "provenance": [],
      "machine_shape": "hm"
    },
    "gpuClass": "standard",
    "kernelspec": {
      "display_name": "Python 3",
      "name": "python3"
    },
    "language_info": {
      "name": "python"
    }
  },
  "nbformat": 4,
  "nbformat_minor": 0
}